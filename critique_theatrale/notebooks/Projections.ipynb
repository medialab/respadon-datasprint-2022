{
 "cells": [
  {
   "cell_type": "code",
   "execution_count": 1,
   "id": "7421cede-5fb2-49a8-8aeb-f1e9b8d2dd0a",
   "metadata": {},
   "outputs": [],
   "source": [
    "import networkx as nx\n",
    "import seaborn as sns\n",
    "import pandas as pd\n",
    "from ipysigma import Sigma\n",
    "from pelote import monopartite_projection, filter_edges\n",
    "from collections import Counter"
   ]
  },
  {
   "cell_type": "code",
   "execution_count": 2,
   "id": "e08a9aee-8d89-434d-8ef2-e28eb0be965e",
   "metadata": {},
   "outputs": [],
   "source": [
    "g = nx.read_gexf('../data/theatre_critique_n0_fixed.gexf')"
   ]
  },
  {
   "cell_type": "code",
   "execution_count": 3,
   "id": "4eeadaa5-d8ea-4a20-9af9-cb2a2a966f9f",
   "metadata": {},
   "outputs": [],
   "source": [
    "critique_to_critique_edges = []\n",
    "\n",
    "for u, v in g.edges:\n",
    "    ua = g.nodes[u]\n",
    "    va = g.nodes[v]\n",
    "    \n",
    "    if ua.get('Type') == 'critique' and va.get('Type') == 'critique':\n",
    "        critique_to_critique_edges.append(((ua.get('Nature', 'na'), ua['label']), (va.get('Nature', 'na'), va['label'])))"
   ]
  },
  {
   "cell_type": "code",
   "execution_count": 4,
   "id": "8ecbc2f7-2190-44a7-8ed4-cddbe9458ffe",
   "metadata": {},
   "outputs": [
    {
     "data": {
      "text/plain": [
       "[(('individu', 'Abrideabattue.blogspot.com'), ('individu', 'Aubalcon.fr')),\n",
       " (('individu', 'Abrideabattue.blogspot.com'),\n",
       "  ('individu', 'Lestroiscoups.fr')),\n",
       " (('individu', 'Annetheatrepassion.blogspot.com'),\n",
       "  ('individu', 'Aubalcon.fr')),\n",
       " (('individu', 'Annetheatrepassion.blogspot.com'),\n",
       "  ('professionelle', 'Journal-Laterrasse.fr')),\n",
       " (('individu', 'Annetheatrepassion.blogspot.com'),\n",
       "  ('professionelle', 'Loeildolivier.fr'))]"
      ]
     },
     "execution_count": 4,
     "metadata": {},
     "output_type": "execute_result"
    }
   ],
   "source": [
    "critique_to_critique_edges[:5]"
   ]
  },
  {
   "cell_type": "code",
   "execution_count": 5,
   "id": "752b7882-98d1-4e43-bedd-becb5720aaa4",
   "metadata": {},
   "outputs": [
    {
     "data": {
      "text/plain": [
       "140"
      ]
     },
     "execution_count": 5,
     "metadata": {},
     "output_type": "execute_result"
    }
   ],
   "source": [
    "len(critique_to_critique_edges)"
   ]
  },
  {
   "cell_type": "code",
   "execution_count": 6,
   "id": "61a44f68-ac9e-4663-83d4-d626a6e4c8e1",
   "metadata": {},
   "outputs": [],
   "source": [
    "heatmap_graph = nx.DiGraph()\n",
    "counts = Counter()\n",
    "\n",
    "for (u, _), (v, _) in critique_to_critique_edges:\n",
    "    if 'na' in [u, v]:\n",
    "        continue\n",
    "    \n",
    "    if heatmap_graph.has_edge(u, v):\n",
    "        heatmap_graph[u][v]['weight'] += 1\n",
    "    else:\n",
    "        heatmap_graph.add_edge(u, v, weight=1)\n",
    "        \n",
    "    counts[u] += 1\n",
    "    counts[v] += 1\n",
    "    \n",
    "counts.most_common()\n",
    "\n",
    "for u, v, a in heatmap_graph.edges.data():\n",
    "    a['normalized_weight'] = a['weight'] / counts[u]"
   ]
  },
  {
   "cell_type": "code",
   "execution_count": 7,
   "id": "7c1a5b7c-ab7e-4ec4-bb38-955a44e72833",
   "metadata": {},
   "outputs": [
    {
     "data": {
      "text/html": [
       "<div>\n",
       "<style scoped>\n",
       "    .dataframe tbody tr th:only-of-type {\n",
       "        vertical-align: middle;\n",
       "    }\n",
       "\n",
       "    .dataframe tbody tr th {\n",
       "        vertical-align: top;\n",
       "    }\n",
       "\n",
       "    .dataframe thead th {\n",
       "        text-align: right;\n",
       "    }\n",
       "</style>\n",
       "<table border=\"1\" class=\"dataframe\">\n",
       "  <thead>\n",
       "    <tr style=\"text-align: right;\">\n",
       "      <th></th>\n",
       "      <th>individu</th>\n",
       "      <th>professionelle</th>\n",
       "      <th>academique</th>\n",
       "      <th>presse</th>\n",
       "    </tr>\n",
       "  </thead>\n",
       "  <tbody>\n",
       "    <tr>\n",
       "      <th>individu</th>\n",
       "      <td>32.0</td>\n",
       "      <td>23.0</td>\n",
       "      <td>1.0</td>\n",
       "      <td>7.0</td>\n",
       "    </tr>\n",
       "    <tr>\n",
       "      <th>professionelle</th>\n",
       "      <td>6.0</td>\n",
       "      <td>20.0</td>\n",
       "      <td>4.0</td>\n",
       "      <td>8.0</td>\n",
       "    </tr>\n",
       "    <tr>\n",
       "      <th>academique</th>\n",
       "      <td>0.0</td>\n",
       "      <td>3.0</td>\n",
       "      <td>10.0</td>\n",
       "      <td>0.0</td>\n",
       "    </tr>\n",
       "    <tr>\n",
       "      <th>presse</th>\n",
       "      <td>11.0</td>\n",
       "      <td>6.0</td>\n",
       "      <td>2.0</td>\n",
       "      <td>3.0</td>\n",
       "    </tr>\n",
       "  </tbody>\n",
       "</table>\n",
       "</div>"
      ],
      "text/plain": [
       "                individu  professionelle  academique  presse\n",
       "individu            32.0            23.0         1.0     7.0\n",
       "professionelle       6.0            20.0         4.0     8.0\n",
       "academique           0.0             3.0        10.0     0.0\n",
       "presse              11.0             6.0         2.0     3.0"
      ]
     },
     "execution_count": 7,
     "metadata": {},
     "output_type": "execute_result"
    }
   ],
   "source": [
    "df = nx.to_pandas_adjacency(heatmap_graph)\n",
    "df"
   ]
  },
  {
   "cell_type": "code",
   "execution_count": 8,
   "id": "07a4da55-cd16-4103-96e1-845aba1ce640",
   "metadata": {},
   "outputs": [
    {
     "data": {
      "image/png": "[encoded data removed]",
      "text/plain": [
       "<Figure size 432x288 with 2 Axes>"
      ]
     },
     "metadata": {
      "needs_background": "light"
     },
     "output_type": "display_data"
    }
   ],
   "source": [
    "sns.heatmap(df, cmap=\"YlGnBu\")\n",
    "None"
   ]
  },
  {
   "cell_type": "code",
   "execution_count": 9,
   "id": "e4d4c686-57e7-45a8-b986-15f4265b6a7c",
   "metadata": {},
   "outputs": [
    {
     "data": {
      "image/png": "[encoded data removed]",
      "text/plain": [
       "<Figure size 432x288 with 2 Axes>"
      ]
     },
     "metadata": {
      "needs_background": "light"
     },
     "output_type": "display_data"
    }
   ],
   "source": [
    "sns.heatmap(nx.to_pandas_adjacency(heatmap_graph, weight='normalized_weight'), cmap=\"YlGnBu\")\n",
    "None"
   ]
  },
  {
   "cell_type": "code",
   "execution_count": 10,
   "id": "a485a66b-cdae-4f51-a6f9-dfab856b32ea",
   "metadata": {},
   "outputs": [],
   "source": [
    "bipartite_critique = filter_edges(g, lambda u, v, a: not (g.nodes[u].get('Type') == 'critique' and g.nodes[v].get('Type') == 'critique'))"
   ]
  },
  {
   "cell_type": "code",
   "execution_count": 15,
   "id": "185db0ad-8191-4f3a-9dc1-f563d8f95eaa",
   "metadata": {},
   "outputs": [],
   "source": [
    "subcritique = g.copy()\n",
    "to_drop = []\n",
    "for node, attr in subcritique.nodes.data():\n",
    "    if attr.get('Type') != 'critique':\n",
    "        to_drop.append(node)\n",
    "        \n",
    "for node in to_drop:\n",
    "    subcritique.remove_node(node)"
   ]
  },
  {
   "cell_type": "code",
   "execution_count": 20,
   "id": "07cc4760-86e5-4925-a817-3b9126140948",
   "metadata": {},
   "outputs": [
    {
     "data": {
      "application/vnd.jupyter.widget-view+json": {
       "model_id": "59f97cc53f3b464b9f61437e17fccd28",
       "version_major": 2,
       "version_minor": 0
      },
      "text/plain": [
       "Sigma(nx.DiGraph with 148 nodes and 140 edges)"
      ]
     },
     "metadata": {},
     "output_type": "display_data"
    }
   ],
   "source": [
    "Sigma(\n",
    "    subcritique,\n",
    "    node_size=subcritique.out_degree,\n",
    "    node_metrics=['louvain'],\n",
    "    node_color='louvain'\n",
    ")"
   ]
  },
  {
   "cell_type": "code",
   "execution_count": 22,
   "id": "bb731796-bbdc-4030-bd2a-11ab00479e50",
   "metadata": {},
   "outputs": [
    {
     "data": {
      "application/vnd.jupyter.widget-view+json": {
       "model_id": "a0b158cf65db486d803cd43d00af49b5",
       "version_major": 2,
       "version_minor": 0
      },
      "text/plain": [
       "Sigma(nx.DiGraph with 148 nodes and 140 edges)"
      ]
     },
     "metadata": {},
     "output_type": "display_data"
    }
   ],
   "source": [
    "Sigma(\n",
    "    subcritique,\n",
    "    node_size=subcritique.out_degree,\n",
    "    node_metrics=['louvain'],\n",
    "    node_color='louvain'\n",
    ")"
   ]
  }
 ],
 "metadata": {
  "kernelspec": {
   "display_name": "Python 3 (ipykernel)",
   "language": "python",
   "name": "python3"
  },
  "language_info": {
   "codemirror_mode": {
    "name": "ipython",
    "version": 3
   },
   "file_extension": ".py",
   "mimetype": "text/x-python",
   "name": "python",
   "nbconvert_exporter": "python",
   "pygments_lexer": "ipython3",
   "version": "3.8.5"
  }
 },
 "nbformat": 4,
 "nbformat_minor": 5
}
