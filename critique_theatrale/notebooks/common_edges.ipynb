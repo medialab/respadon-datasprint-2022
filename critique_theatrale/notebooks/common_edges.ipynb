{
 "cells": [
  {
   "cell_type": "code",
   "execution_count": 66,
   "id": "367f70eb-1e6c-4c6e-8e79-44dd2ab58826",
   "metadata": {},
   "outputs": [],
   "source": [
    "import networkx as nx\n",
    "import pelote"
   ]
  },
  {
   "cell_type": "code",
   "execution_count": 67,
   "id": "18832be4-d835-4802-a7dc-fa0400b62947",
   "metadata": {},
   "outputs": [],
   "source": [
    "nature_palette = set()"
   ]
  },
  {
   "cell_type": "code",
   "execution_count": 77,
   "id": "1a53f250-538e-406c-b0e6-e06ab02b026a",
   "metadata": {},
   "outputs": [],
   "source": [
    "def reindex_graph(graph):\n",
    "    g = nx.DiGraph()\n",
    "    for e in graph.edges:\n",
    "        source = graph.nodes[e[0]]\n",
    "        target = graph.nodes[e[1]]\n",
    "        if source.get(\"Type\") in [\"critique\"] and target.get(\"Type\") in [\"critique\"]:\n",
    "        #if True:\n",
    "            nature_palette.add(source.get(\"Nature\"))\n",
    "            nature_palette.add(target.get(\"Nature\"))\n",
    "\n",
    "            g.add_node(source[\"name\"], **source)\n",
    "            g.add_node(target[\"name\"], **target)\n",
    "            g.add_edge(source[\"name\"], target[\"name\"])\n",
    "    return g"
   ]
  },
  {
   "cell_type": "code",
   "execution_count": 78,
   "id": "f7aff9eb-c643-4d84-9a9d-2c6463553f39",
   "metadata": {},
   "outputs": [
    {
     "name": "stdout",
     "output_type": "stream",
     "text": [
      "934\n",
      "140\n"
     ]
    }
   ],
   "source": [
    "graph_n0 = nx.read_gexf(\"../data/theatre_critique_n0_fixed.gexf\")\n",
    "print(len(graph_n0.edges))\n",
    "graph_n0 = reindex_graph(graph_n0)\n",
    "print(len(graph_n0.edges))"
   ]
  },
  {
   "cell_type": "code",
   "execution_count": 79,
   "id": "c208758d-1f69-4479-a548-ab7c1d6c8a5f",
   "metadata": {},
   "outputs": [
    {
     "name": "stdout",
     "output_type": "stream",
     "text": [
      "1525\n",
      "202\n"
     ]
    }
   ],
   "source": [
    "graph_n1 = nx.read_gexf(\"../data/theatre_critique_n-1_fixed.gexf\")\n",
    "print(len(graph_n1.edges))\n",
    "graph_n1 = reindex_graph(graph_n1)\n",
    "print(len(graph_n1.edges))"
   ]
  },
  {
   "cell_type": "code",
   "execution_count": 80,
   "id": "10f3d173-94b4-4f21-8eb2-da4320a4c260",
   "metadata": {},
   "outputs": [],
   "source": [
    "n1_to_n0, n0_to_n1 = nx.DiGraph(), nx.DiGraph()"
   ]
  },
  {
   "cell_type": "code",
   "execution_count": 81,
   "id": "fe7f31b9-e46f-44aa-aaff-b47b9f777738",
   "metadata": {},
   "outputs": [],
   "source": [
    "red = 0\n",
    "yellow = 0"
   ]
  },
  {
   "cell_type": "code",
   "execution_count": null,
   "id": "28686a38-d525-490b-b417-40f2322372c7",
   "metadata": {},
   "outputs": [],
   "source": []
  },
  {
   "cell_type": "code",
   "execution_count": 82,
   "id": "f7c14592-c986-45f3-9f50-57efed3af777",
   "metadata": {},
   "outputs": [],
   "source": [
    "def make_joined_graph(old, new, name_old, name_new):\n",
    "    nb_of_new_edges = 0\n",
    "    nb_of_removed_edges = 0\n",
    "    joined = nx.DiGraph()\n",
    "    i = 0\n",
    "    for e in new.edges:\n",
    "        joined.add_node(e[0], **new.nodes[e[0]])\n",
    "        joined.add_node(e[1], **new.nodes[e[1]])\n",
    "        if old.has_edge(*e):\n",
    "            joined.add_edge(e[0], e[1], time=\"all\")\n",
    "        else:\n",
    "            joined.add_edge(e[0], e[1], time=name_new)\n",
    "            nb_of_new_edges += 1\n",
    "\n",
    "    for e in old.edges:\n",
    "        if not new.has_edge(*e):\n",
    "            joined.add_node(e[0], **old.nodes[e[0]])\n",
    "            joined.add_node(e[1], **old.nodes[e[1]])\n",
    "            joined.add_edge(e[0], e[1], time=name_old)\n",
    "            nb_of_removed_edges += 1\n",
    "\n",
    "    print(\"From {} to {}: {} created edges, {} removed edges\".format(name_old, name_new, nb_of_new_edges, nb_of_removed_edges))       \n",
    "    time_palette = {name_new: \"#84a247\", name_old: \"#c9654e\", \"all\": \"#958CC8\" }\n",
    "    return joined, time_palette\n",
    "        "
   ]
  },
  {
   "cell_type": "code",
   "execution_count": 83,
   "id": "1a162e9b-a4e3-4b1e-9b6c-5af5dad13633",
   "metadata": {},
   "outputs": [
    {
     "name": "stdout",
     "output_type": "stream",
     "text": [
      "From n-1 to n0: 39 created edges, 101 removed edges\n"
     ]
    }
   ],
   "source": [
    "joined, time_palette = make_joined_graph(graph_n1, graph_n0, \"n-1\", \"n0\")"
   ]
  },
  {
   "cell_type": "code",
   "execution_count": 84,
   "id": "af033cc8-9ab8-4d06-9a11-137abc01be9f",
   "metadata": {},
   "outputs": [],
   "source": [
    "palette = {\"individu\" : \"#9BF0FF\",\n",
    "\"professionelle\" : \"#FF9770\",\n",
    "\"academique\" : \"#01DCBE\",\n",
    "\"presse\" : \"#FFB7DF\",\n",
    "\"a decider\" : \"#958CC8\"}"
   ]
  },
  {
   "cell_type": "code",
   "execution_count": 85,
   "id": "0964db36-6a5d-4fb1-87cd-2833664af031",
   "metadata": {},
   "outputs": [],
   "source": [
    "is_common_palette = {True: \"#84a247\", False: \"#c9654e\" }"
   ]
  },
  {
   "cell_type": "markdown",
   "id": "ced161a9-8424-42f4-a5ca-586ad1d5a33c",
   "metadata": {},
   "source": [
    "## **Période n0 - n-1 - liens entre critiques**"
   ]
  },
  {
   "cell_type": "code",
   "execution_count": 86,
   "id": "cd4d511f-f0d1-4e86-a387-c4e1b2571245",
   "metadata": {},
   "outputs": [
    {
     "data": {
      "application/vnd.jupyter.widget-view+json": {
       "model_id": "f7cfec142813409e99ac580a8ed569df",
       "version_major": 2,
       "version_minor": 0
      },
      "text/plain": [
       "Sigma(nx.DiGraph with 111 nodes and 241 edges)"
      ]
     },
     "metadata": {},
     "output_type": "display_data"
    }
   ],
   "source": [
    "import networkx as nx\n",
    "from ipysigma import Sigma\n",
    "\n",
    "#Sigma(n1_to_n0, edge_color=\"is_common\", edge_color_palette=is_common_palette, start_layout=True, node_size=n1_to_n0.in_degree, node_color=\"louvain\", node_metrics=[\"louvain\"], node_color=\"Nature\", node_color_palette=palette)\n",
    "Sigma(joined, edge_color=\"time\", edge_color_palette=time_palette, start_layout=True, node_size=joined.in_degree, \n",
    "      edge_size_range=3, node_color=\"Nature\", node_color_palette=palette)\n",
    "#Sigma(joined, edge_color=\"time\", edge_color_palette=time_palette, start_layout=True, node_size=joined.in_degree, \n",
    "#      edge_size_range=3, node_color=\"Type\")"
   ]
  },
  {
   "cell_type": "code",
   "execution_count": 87,
   "id": "e34ad44d-954c-42bf-bab2-94c7da1c890c",
   "metadata": {},
   "outputs": [
    {
     "name": "stdout",
     "output_type": "stream",
     "text": [
      "957\n",
      "124\n"
     ]
    }
   ],
   "source": [
    "graph_n2 = nx.read_gexf(\"../data/theatre_critique_n-2_fixed.gexf\")\n",
    "print(len(graph_n2.edges))\n",
    "graph_n2 = reindex_graph(graph_n2)\n",
    "print(len(graph_n2.edges))"
   ]
  },
  {
   "cell_type": "code",
   "execution_count": 88,
   "id": "2ace42c6-b303-4e0e-82e2-0004213335db",
   "metadata": {},
   "outputs": [
    {
     "name": "stdout",
     "output_type": "stream",
     "text": [
      "From n-2 to n-1: 117 created edges, 39 removed edges\n"
     ]
    }
   ],
   "source": [
    "joined, time_palette = make_joined_graph(graph_n2, graph_n1, \"n-2\", \"n-1\")"
   ]
  },
  {
   "cell_type": "markdown",
   "id": "18415d76-2b52-4e92-840b-5a3175091005",
   "metadata": {},
   "source": [
    "## **Période n-1 - n-2 - liens entre critiques**"
   ]
  },
  {
   "cell_type": "code",
   "execution_count": 89,
   "id": "6c13c40e-72ca-4a59-a4e1-764fabc80779",
   "metadata": {},
   "outputs": [
    {
     "data": {
      "application/vnd.jupyter.widget-view+json": {
       "model_id": "8f9c1fe7b38e41b9be72d4877b8ccd24",
       "version_major": 2,
       "version_minor": 0
      },
      "text/plain": [
       "Sigma(nx.DiGraph with 102 nodes and 241 edges)"
      ]
     },
     "metadata": {},
     "output_type": "display_data"
    }
   ],
   "source": [
    "#Sigma(n1_to_n0, edge_color=\"is_common\", edge_color_palette=is_common_palette, start_layout=True, node_size=n1_to_n0.in_degree, node_color=\"Nature\", node_color_palette=palette)\n",
    "Sigma(joined, edge_color=\"time\", edge_color_palette=time_palette, start_layout=True, node_size=joined.in_degree, \n",
    "      edge_size_range=3, node_color=\"Nature\", node_color_palette=palette)\n",
    "#Sigma(joined, edge_color=\"time\", edge_color_palette=time_palette, start_layout=True, node_size=joined.in_degree, \n",
    "#      edge_size_range=3, node_color=\"Type\")"
   ]
  },
  {
   "cell_type": "code",
   "execution_count": null,
   "id": "71a0384a-25f7-4cc4-a58f-8933d4ab0c12",
   "metadata": {},
   "outputs": [],
   "source": []
  }
 ],
 "metadata": {
  "kernelspec": {
   "display_name": "Python 3 (ipykernel)",
   "language": "python",
   "name": "python3"
  },
  "language_info": {
   "codemirror_mode": {
    "name": "ipython",
    "version": 3
   },
   "file_extension": ".py",
   "mimetype": "text/x-python",
   "name": "python",
   "nbconvert_exporter": "python",
   "pygments_lexer": "ipython3",
   "version": "3.8.0"
  }
 },
 "nbformat": 4,
 "nbformat_minor": 5
}
